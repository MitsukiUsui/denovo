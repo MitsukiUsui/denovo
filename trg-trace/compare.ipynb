{
 "cells": [
  {
   "cell_type": "code",
   "execution_count": 28,
   "metadata": {
    "collapsed": true
   },
   "outputs": [],
   "source": [
    "from Bio import SeqIO\n",
    "from Bio.Seq import Seq"
   ]
  },
  {
   "cell_type": "code",
   "execution_count": 48,
   "metadata": {
    "collapsed": true
   },
   "outputs": [],
   "source": [
    "class GapTracker:\n",
    "    def __init__(self):\n",
    "        self.names = [\"query\", \"sbjct\"]\n",
    "        self.gap = [None for _ in range(len(self.names))]\n",
    "        self.gaps = [[] for _ in range(len(self.names))]\n",
    "        \n",
    "    def start(self, i, name):\n",
    "        idx = self.names.index(name)\n",
    "        if self.gap[idx] is None:\n",
    "            self.gap[idx] = {\"start\": i}\n",
    "            \n",
    "    def end(self, i, name):\n",
    "        idx = self.names.index(name)\n",
    "        if self.gap[idx] is not None:\n",
    "            self.gap[idx][\"end\"] = i\n",
    "            self.gaps[idx].append(self.gap[idx])\n",
    "            self.gap[idx] = None"
   ]
  },
  {
   "cell_type": "code",
   "execution_count": 72,
   "metadata": {
    "collapsed": false
   },
   "outputs": [],
   "source": [
    "alignFilepath = \"/home/mitsuki/altorf/denovo/trg-trace/align/mycobacterium/g062726/g063019-cds4882.align\"\n",
    "rec_lst = [rec for rec in SeqIO.parse(alignFilepath, \"fasta\")]\n",
    "assert len(rec_lst) == 2\n",
    "query = rec_lst[0].seq\n",
    "sbjct = rec_lst[1].seq\n",
    "assert len(query) == len(sbjct)\n",
    "length = len(query)"
   ]
  },
  {
   "cell_type": "code",
   "execution_count": 73,
   "metadata": {
    "collapsed": false
   },
   "outputs": [],
   "source": [
    "qi = 0\n",
    "codon = \"\"\n",
    "gt = GapTracker()\n",
    "codon_lst = []\n",
    "\n",
    "for i in range(length):\n",
    "    if query[i] == \"-\":\n",
    "        codon = None\n",
    "        gt.start(i, \"query\")\n",
    "        gt.end(i, \"sbjct\")\n",
    "    elif sbjct[i] == \"-\":\n",
    "        qi += 1\n",
    "        codon = None\n",
    "        gt.start(i, \"sbjct\")\n",
    "        gt.end(i, \"query\")\n",
    "    else:\n",
    "        qi += 1\n",
    "        if codon is not None:\n",
    "            codon += sbjct[i]\n",
    "        gt.end(i, \"query\")\n",
    "        gt.end(i, \"sbjct\")\n",
    "\n",
    "    if qi > 0 and qi%3 == 0:\n",
    "        if codon is not None:\n",
    "            codon_lst.append(codon)\n",
    "        codon = \"\"\n",
    "gt.end(length, \"query\")\n",
    "gt.end(length, \"sbjct\")"
   ]
  },
  {
   "cell_type": "code",
   "execution_count": 75,
   "metadata": {
    "collapsed": false
   },
   "outputs": [
    {
     "data": {
      "text/plain": [
       "[[{'end': 327, 'start': 326}], []]"
      ]
     },
     "execution_count": 75,
     "metadata": {},
     "output_type": "execute_result"
    }
   ],
   "source": [
    "gt.gaps"
   ]
  },
  {
   "cell_type": "code",
   "execution_count": 70,
   "metadata": {
    "collapsed": false
   },
   "outputs": [
    {
     "data": {
      "text/plain": [
       "'gcg'"
      ]
     },
     "execution_count": 70,
     "metadata": {},
     "output_type": "execute_result"
    }
   ],
   "source": [
    "codon_lst[0]"
   ]
  },
  {
   "cell_type": "code",
   "execution_count": null,
   "metadata": {
    "collapsed": true
   },
   "outputs": [],
   "source": []
  },
  {
   "cell_type": "code",
   "execution_count": 74,
   "metadata": {
    "collapsed": false
   },
   "outputs": [
    {
     "name": "stdout",
     "output_type": "stream",
     "text": [
      "MPEALRELSGAWNFRDVADGAPMLRPGRLFRSGELSGLDDEGRATLRRLGITDVADLRAAREVARRGPGRVPDGVEVHLLPFPDLGEHEAGTDDQAPHEHAFQRLLTGGAEQSAESVDEAATRYMIDEYRQFPTRNGAQRALHRVISLLGAGRAVLTHCFAGKDRTGFVVATVLEAIGVDRDVIVADFLRSNDAAPALRAQISAMIAQRQDTELTPEVVTWTEARLSDGVLGVREEYLAAARQTIDEKFGSLQAYLRDAGVGEADVQRLRAALLA*"
     ]
    }
   ],
   "source": [
    "for codon in codon_lst:\n",
    "    print(Seq(codon).translate(), end=\"\")"
   ]
  },
  {
   "cell_type": "code",
   "execution_count": 77,
   "metadata": {
    "collapsed": true
   },
   "outputs": [],
   "source": [
    "def get_six_frame(dnaSeq):\n",
    "    \"\"\"\n",
    "    get 6 frame translation of qseq_dna\n",
    "    \"\"\"\n",
    "    qtrans_lst=[]\n",
    "    for strand in [1,-1]:\n",
    "        for gap in range(3):\n",
    "            start, end = gap, len(dnaSeq)\n",
    "            while end%3 != gap:\n",
    "                end -= 1\n",
    "            if strand == 1:\n",
    "                subSeq = dnaSeq[gap:end]\n",
    "            elif strand == -1 :\n",
    "                subSeq = dnaSeq[gap:end].reverse_complement()\n",
    "            qtrans_lst.append(subSeq.translate(table=11))\n",
    "    return qtrans_lst"
   ]
  },
  {
   "cell_type": "code",
   "execution_count": 76,
   "metadata": {
    "collapsed": true
   },
   "outputs": [],
   "source": [
    "fnaFilepath = \"/home/mitsuki/altorf/denovo/trg-trace/align/mycobacterium/g062726/g063019-cds4882.fna\"\n",
    "rec_lst = [rec for rec in SeqIO.parse(fnaFilepath, \"fasta\")]"
   ]
  },
  {
   "cell_type": "code",
   "execution_count": 78,
   "metadata": {
    "collapsed": false
   },
   "outputs": [
    {
     "name": "stdout",
     "output_type": "stream",
     "text": [
      "MTEALRELSGAWNFRDVSDGAPALKPGRLFRSGELSGLDDDGRATLSRLGITDVADLRAAREVARRGPGLVPDGVEVHLLPFPDLGEQDAGTDDAAPHEHAFQRLLTGEGVEESEQSVNEAATRYMIDEYRQFPTRNGAQRALHRVISLLADGHSVLTHCFAGKDRTGFVVATVLEAIGIDRDTILADFLRSNDAAPALRAQISAMIAQRQDAELTPEVVTWTEARLSDGVLGVREVYLAAARQTIDEEFGSLDAYLRAASVSESDVERLREALLA*\n",
      "*LRRCENCRARGTFVTSPTAHRRSNPGGCSAPAN*AGSTTTAARR*AGWASPTSPICGRPARSRGAGRGWFPTASRCTCCPSPISASRTPGPTTRRRTNTPSSACSPARASRNRSSRSTRPPPAT*STNTANSQRVTGRSGRCTASSRCWPTGIRC*RTASPARTAPASWWRPCWRRSASTATPSWPTSCAATTPRPPCGRRSPR*SRSARTPS*PRRW*PGPRRGCPTACSGSARSTWPPRAKPSTRNSGRWTPTCAPRASASQTWSACARRCSP\n",
      "D*GVARTVGRVELS*RLRRRTGAQTRAAVPLRRTERARRRRPRDAEPAGHHRRRRSAGGPRGRAARAGAGSRRRRGAPVALPRSRRAGRRDRRRGAARTRLPAPAHRRGRRGIGAVGQRGRHPLHDRRIPPIPNA*RGAAGVAPRHLAAGRRAFGADALLRRQGPHRLRGGDRAGGDRHRPRHHPGRLPAQQRRRARPAGADLRDDRAAPGRRADPGGGDLDRGAAVRRRARGPRGLPGRRAPNHRRGIRVAGRLLARRERQRVRRGAPARGAARL\n",
      "SGEQRLAQALHV*LADARGAQVGVQRPEFLVDGLARGGQVDLADPEHAVGQPRLGPGHHLRGQLGVLALRDHRGDLRPQGGRGVVAAQEVGQDGVAVDADRLQHGRHHEAGAVLAGEAVRQHRMPVGQQRDDAVQRPLRPVTRWELAVFVDHVAGGGLVDRLLRFLDALAGEQALEGVFVRRRVVGPGVLLAEIGEGQQVHLDAVGNQPRPAPRDLAGRPQIGDVGDAQPAQRRAAVVVEPAQFAGAEQPPGFERRCAVGDVTKVPRARQFSQRLSH\n",
      "RRAAPRAGAPRLTR*RSRRASRRPATRIPRRWFGARRPGRPRGPRARRRTAAPRSRSPPPGSARRPGAARSSRRSAPAGRARRRCCAGSRPGWCRGRCRSPPARSPPRSRCGPCRRSSASAPNARRPAAR*RGATPAAPRYALGIGGIRRSCSGWRPR*PTAPIPRRPRR*AGAGRRVRAAPRRRSRRPARRDRGRATGAPRRRREPAPARAARPRGPPADRRRR*CPAGSASRGRRRRARSVRRSGTAARV*APVRRRRRHESSTRPTVLATPQS\n",
      "QASSASRRRSTSDSLTLAARK*ASSDPNSSSMVWRAAAR*TSRTPSTPSDSRASVQVTTSGVSSASWRCAIIAEICARRAGAASLLRRKSARMVSRSMPIASSTVATTKPVRSLPAKQCVSTECPSASSEMTRCNARCAPLRVGNWRYSSIM*RVAASLTDCSDSSTPSPVSRRWKACSCGAASSVPASCSPRSGKGNRCTSTPSGTSPGPRRATSRAARRSATSVMPSRLSVARPSSSSPLSSPERNSRPGLSAGAPSETSRKFHAPDSSRNASV\n"
     ]
    }
   ],
   "source": [
    "for seq in get_six_frame(rec_lst[0].seq):\n",
    "    print(seq)"
   ]
  },
  {
   "cell_type": "code",
   "execution_count": 79,
   "metadata": {
    "collapsed": false
   },
   "outputs": [
    {
     "name": "stdout",
     "output_type": "stream",
     "text": [
      "MPEALRELSGAWNFRDVADGAPMLRPGRLFRSGELSGLDDEGRATLRRLGITDVADLRAAREVARRGPGRVPDGVEVHLLPFPDLGEHEAGTDDQAPHEHAFQRLLTGDGGRAVGGVRRRGRHPLHDRRIPAIPNA*RGAASAAPGHLAAGRRACGAHPLLRRQGPHRVRGGDGARSDRRRPRRHRRRLSAQQRRRARAARADLGDDRAAPGHRADPGGGDLDRGAAVRRCAGGARGVPGRRSANHRREVRVAAGLPARRRGRRGRRATPARGAARL\n",
      "CLRRCENCPARGTFVTSPTVRPCCGRAGCSGPAS*AGSTTRAARRCAGWASPTSPTCARPARWPGAARAGFPTGSRCTCCPFPISASTRPAPTTRRRTSTPSSGCSPATGAEQSAESVDEAATRYMIDEYRQFPTRNGAQRALHRVISLLGAGRAVLTHCFAGKDRTGFVVATVLEAIGVDRDVIVADFLRSNDAAPALRAQISAMIAQRQDTELTPEVVTWTEARLSDGVLGVREEYLAAARQTIDEKFGSLQAYLRDAGVGEADVQRLRAALLA*\n",
      "A*GAARTVRRVELS*RRRRCAHAAAGPAVPVRRAERARRRGPRDAAPAGHHRRRRPARGPRGGPARPGPGSRRGRGAPAALSRSRRARGRHRRPGAARARLPAAAHRRRGPSSRRSPSTRPPPAT*STNTGNSQRVTGRSERCTGSSRCWAPGVRCSPTASPARTAPGSWWRRCSKRSASTATSSSPTFCAATTPRPRCARRSRR*SRSARTPS*PRRW*PGPRRGCPTVCWGCARSTWPPLGKPSTRSSGRCRPTCATPGSARQTCNACARRCSP\n",
      "QASSAARRRCTSASPTPASRR*ACSDPNFSSMVCRAAARYSSRTPSTPSDSRASVQVTTSGVSSVSWRCAIIAEICARSAGAASLLRRKSATMTSRSTPIASSTVATTNPVRSLPAKQWVSTARPAPSSEMTRCSARCAPLRVGNCRYSSIM*RVAASSTDSADCSAPVAGEQPLEGVLVRRLVVGAGLVLAEIGKGQQVHLDPVGNPARAAPGHLAGRAQVGDVGDAQPAQRRAALVVEPAQLAGPEQPARPQHGRTVGDVTKVPRAGQFSQRLRH\n",
      "SGEQRRAQALHVCLADPGVAQVGLQRPELLVDGLPSGGQVLLAHPQHTVGQPRLGPGHHLRGQLGVLALRDHRRDLRAQRGRGVVAAQKVGDDDVAVDADRFEHRRHHEPGAVLAGEAVGEHRTPGAQQRDDPVQRSLRPVTRWELPVFVDHVAGGGLVDGLRRLLGPRRR*AAAGRRARAAPGRRCRPRARRDRERAAGAPRPRREPGPGRAGPPRGPRAGRRRR*CPAGAASRGPRRRARSARRTGTAGPAAAWAHRRRRHESSTRRTVLAAPQA\n",
      "RRAAPRAGVARLPRRPRRRAGRPAATRTSRRWFAERRPGTPRAPPAHRRTAAPRSRSPPPGSARCPGAARSSPRSARAARARRRCCAESRRR*RRGRRRSLRAPSPPRTRCGPCRRSSG*APHARRPAAR*PGAALAAPRYALGIAGIRRSCSGWRPRRRTPPTARPPSPVSSRWKACSCGAWSSVPASCSPRSGKGSRCTSTPSGTRPGPRRATSRAARRSATSVMPSRRSVARPSSSSPLSSPDRNSRPGRSMGAPSATSRKFHAPDSSRSASG\n"
     ]
    }
   ],
   "source": [
    "for seq in get_six_frame(rec_lst[1].seq):\n",
    "    print(seq)"
   ]
  },
  {
   "cell_type": "code",
   "execution_count": 9,
   "metadata": {
    "collapsed": true
   },
   "outputs": [],
   "source": [
    "def get_rec(target, family, orfid, ext):\n",
    "    assert ext==\"fna\" or ext==\"faa\"\n",
    "    \n",
    "    fp = \"/data/mitsuki/data/denovo/{0}/annotation/refseq/family/{2}/{1}.{2}\".format(target, family, ext)\n",
    "    for rec in SeqIO.parse(fp, \"fasta\"):\n",
    "        if rec.id == orfid:\n",
    "            return rec\n",
    "    return None"
   ]
  },
  {
   "cell_type": "code",
   "execution_count": null,
   "metadata": {
    "collapsed": true
   },
   "outputs": [],
   "source": [
    "family6623\n",
    "query = \"g063032-cds2443\""
   ]
  },
  {
   "cell_type": "code",
   "execution_count": 11,
   "metadata": {
    "collapsed": false
   },
   "outputs": [
    {
     "data": {
      "text/plain": [
       "SeqRecord(seq=Seq('MAGGTTKANCSQKCEAGGDRRIRIAARQHGSRLPSVHFGAAWVGLGAFATLPAA...GLP', SingleLetterAlphabet()), id='g063032-cds2443', name='g063032-cds2443', description='g063032-cds2443 WP_080674231.1 hypothetical protein [Mycobacterium kansasii]', dbxrefs=[])"
      ]
     },
     "execution_count": 11,
     "metadata": {},
     "output_type": "execute_result"
    }
   ],
   "source": [
    "get_rec(\"mycobacterium\", \"family6623\", \"g063032-cds2443\", \"faa\") #当然1フレーム目の翻訳産物"
   ]
  },
  {
   "cell_type": "code",
   "execution_count": 3,
   "metadata": {
    "collapsed": false
   },
   "outputs": [],
   "source": [
    "seqFilepath = \"../helper/extract.out\"\n",
    "rec_lst = []\n",
    "for rec in SeqIO.parse(seqFilepath, \"fasta\"):\n",
    "    rec_lst.append(rec)"
   ]
  },
  {
   "cell_type": "code",
   "execution_count": 4,
   "metadata": {
    "collapsed": false
   },
   "outputs": [
    {
     "data": {
      "text/plain": [
       "[SeqRecord(seq=Seq('AGCGGGCGACGTTCCGAATGTTCGGTCCGCCGCCCGCTAGCACGGGACTCGGTT...GTG', SingleLetterAlphabet()), id='g062726-NC_002944.2:[438217,', name='g062726-NC_002944.2:[438217,', description='g062726-NC_002944.2:[438217, 438511),0', dbxrefs=[]),\n",
       " SeqRecord(seq=Seq('ATAGCTGGCGGAACTACAAAAGCAAATTGTTCGCAGAAATGCGAAGCGGGCGGC...TGA', SingleLetterAlphabet()), id='g063032-cds2443', name='g063032-cds2443', description='g063032-cds2443 lcl|NC_022663.1_cds_WP_080674231.1_2445 [locus_tag=MKAN_RS29640] [db_xref=GeneID:31546045] [protein=hypothetical protein] [protein_id=WP_080674231.1] [location=complement(2811380..2811718)] [gbkey=CDS]', dbxrefs=[])]"
      ]
     },
     "execution_count": 4,
     "metadata": {},
     "output_type": "execute_result"
    }
   ],
   "source": [
    "rec_lst"
   ]
  },
  {
   "cell_type": "code",
   "execution_count": null,
   "metadata": {
    "collapsed": true
   },
   "outputs": [],
   "source": [
    "AGDVPNVRSAAR*HGTRLPSVHLAAWVGLGDLTTLPVAAPKGP*TAIRNYAGPQHFCHFRGYDSAWVPSTVLGARIGRSNLLFRDLGLTGLP"
   ]
  },
  {
   "cell_type": "code",
   "execution_count": 5,
   "metadata": {
    "collapsed": false
   },
   "outputs": [
    {
     "name": "stdout",
     "output_type": "stream",
     "text": [
      "SGRRSECSVRRPLARDSVTKRASRGCVGWPRRSHDASGCSPTQRAVDTFRNSQLRRPATLLPFSRL*LRVGAEHRAGRPDREIEPSLPDRPWPHRASV\n",
      "AGDVPNVRSAAR*HGTRLPSVHLGAAWVGLGDLTTLPVAAPPKGP*TPSAIRNYAGPQHFCHFRGYDSAWVPSTVLGARIGRSNLLFRIDLGLTGLP\n",
      "RATFRMFGPPPASTGLGYQACISGLRGLASAISRRFRLQPHPKGRRHLPQFAITQARNTSAIFAAMTPRGCRAPCWAPGSGDRTFSSGSTLASPGFR\n",
      "HGSPVRPRSIRKRRFDLPIRAPSTVLGTHAES*PRKWQKCCGPA*LRIAEGVYGPLGGAATGSVVRSPRPTHAAPRCTLGNRVPC*RAADRTFGTSPA\n",
      "RKPGEAKVDPEEKVRSPDPGAQHGARHPRGVIAAKMAEVLRACVIANCGRCLRPFGWGCNRKRREIAEANPRSPEMHAW*PSPVLAGGGPNIRNVAR\n",
      "TEAR*GQGRSGREGSISRSGRPARCSAPTRSHSRENGRSVAGLRNCELRKVSTALWVGLQPEAS*DRRGQPTQPRDARLVTESRASGRRTEHSERRP\n"
     ]
    }
   ],
   "source": [
    "for seq in get_six_frame(rec_lst[0].seq):\n",
    "    print(seq)"
   ]
  },
  {
   "cell_type": "code",
   "execution_count": 6,
   "metadata": {
    "collapsed": false
   },
   "outputs": [
    {
     "name": "stdout",
     "output_type": "stream",
     "text": [
      "IAGGTTKANCSQKCEAGGDRRIRIAARQHGSRLPSVHFGAAWVGLGAFATLPAAAPPKGPSLPSALRNYAGPQHFCHYRGYDSAWVPGTVLGARVGRTNLLFRIDLGLTGLP*\n",
      "*LAELQKQIVRRNAKRAATEGFESPPANTVLGYQACISGLRGLASALLRHFRLQPHPKDRRYHLHFAITQARNTSAIIAAMTPRGCREPCWAPGSGERTFSSGSTLASPGFR\n",
      "SWRNYKSKLFAEMRSGRRPKDSNRRPPTRFSVTKRAFRGCVGWPRRFCDTSGCSPTQRTVATICTSQLRRPATLLPLSRL*LRVGAGNRAGRPGRENEPSLPDRPWPHRASV\n",
      "SRKPGEAKVDPEEKVRSPDPGAQHGSRHPRGVIAAIMAEVLRACVIAKCRW*RRSFGWGCSRKCRKSAEANPRSPEMHAW*PRTVLAGGDSNPSVAARFAFLRTICFCSSASY\n",
      "TEAR*GQGRSGREGSFSRPGRPARFPAPTRSHSRDNGRSVAGLRNCEVQMVATVLWVGLQPEVSQKRRGQPTQPRNARLVTENRVGGRRFESFGRRPLRISANNLLL*FRQL\n",
      "HGSPVRPRSIRKRRFVLPTRAPSTVPGTHAES*PR*WQKCCGPA*LRSADGSDGPLGGAAAGSVAKAPRPTHAAPKCTLGNREPCWRAAIRILRSPPASHFCEQFAFVVPPA\n"
     ]
    }
   ],
   "source": [
    "for seq in get_six_frame(rec_lst[1].seq):\n",
    "    print(seq)"
   ]
  },
  {
   "cell_type": "code",
   "execution_count": 9,
   "metadata": {
    "collapsed": false
   },
   "outputs": [
    {
     "name": "stdout",
     "output_type": "stream",
     "text": [
      "IAGGTTKANCSQKCEAGGDRRIRIAARQHGSRLPSVHFGAAWVGLGAFATLPAAAPPKGPSLPSALRNYAGPQHFCHYRGYDSAWVPGTVLGARVGRTNLLFRIDLGLTGLP*\n"
     ]
    }
   ],
   "source": [
    "print(get_six_frame(rec_lst[1].seq)[0])"
   ]
  },
  {
   "cell_type": "code",
   "execution_count": null,
   "metadata": {
    "collapsed": true
   },
   "outputs": [],
   "source": []
  }
 ],
 "metadata": {
  "kernelspec": {
   "display_name": "Python 3",
   "language": "python",
   "name": "python3"
  },
  "language_info": {
   "codemirror_mode": {
    "name": "ipython",
    "version": 3
   },
   "file_extension": ".py",
   "mimetype": "text/x-python",
   "name": "python",
   "nbconvert_exporter": "python",
   "pygments_lexer": "ipython3",
   "version": "3.6.0"
  }
 },
 "nbformat": 4,
 "nbformat_minor": 2
}
