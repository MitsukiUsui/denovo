{
 "cells": [
  {
   "cell_type": "code",
   "execution_count": 3,
   "metadata": {
    "collapsed": true
   },
   "outputs": [],
   "source": [
    "import pandas as pd\n",
    "from Bio import SeqIO\n",
    "from Bio.Seq import Seq\n",
    "from collections import defaultdict"
   ]
  },
  {
   "cell_type": "code",
   "execution_count": 4,
   "metadata": {
    "collapsed": true
   },
   "outputs": [],
   "source": [
    "class GapTracker:\n",
    "    def __init__(self):\n",
    "        self.gap = {}\n",
    "        self.gaps = defaultdict(list)\n",
    "        \n",
    "    def start(self, i, name):\n",
    "        if name not in self.gap.keys():\n",
    "            self.gap[name] = {\"start\": i}\n",
    "            \n",
    "    def end(self, i, name):\n",
    "        if name in self.gap.keys():\n",
    "            self.gap[name][\"end\"] = i\n",
    "            self.gaps[name].append(self.gap[name])\n",
    "            del self.gap[name]"
   ]
  },
  {
   "cell_type": "code",
   "execution_count": 8,
   "metadata": {
    "collapsed": false
   },
   "outputs": [
    {
     "data": {
      "text/plain": [
       "defaultdict(list,\n",
       "            {'query': [{'end': 1, 'start': 0}],\n",
       "             'sbjct': [{'end': 1, 'start': 3}]})"
      ]
     },
     "execution_count": 8,
     "metadata": {},
     "output_type": "execute_result"
    }
   ],
   "source": [
    "gt = GapTracker()\n",
    "gt.start(0, \"query\")\n",
    "gt.end(1, \"query\")\n",
    "gt.end(2, \"sbjct\")\n",
    "gt.start(3, \"sbjct\")\n",
    "gt.end(1, \"sbjct\")\n",
    "gt.gaps"
   ]
  },
  {
   "cell_type": "code",
   "execution_count": 9,
   "metadata": {
    "collapsed": true
   },
   "outputs": [],
   "source": [
    "target = \"mycobacterium\"\n",
    "strain = \"g062726\""
   ]
  },
  {
   "cell_type": "code",
   "execution_count": 10,
   "metadata": {
    "collapsed": false
   },
   "outputs": [
    {
     "name": "stdout",
     "output_type": "stream",
     "text": [
      "(24, 9)\n"
     ]
    },
    {
     "data": {
      "text/html": [
       "<div>\n",
       "<table border=\"1\" class=\"dataframe\">\n",
       "  <thead>\n",
       "    <tr style=\"text-align: right;\">\n",
       "      <th></th>\n",
       "      <th>family</th>\n",
       "      <th>query</th>\n",
       "      <th>qlength</th>\n",
       "      <th>coverage</th>\n",
       "      <th>distance</th>\n",
       "      <th>hit_count</th>\n",
       "      <th>max_length</th>\n",
       "      <th>longest</th>\n",
       "      <th>possess</th>\n",
       "    </tr>\n",
       "  </thead>\n",
       "  <tbody>\n",
       "    <tr>\n",
       "      <th>194</th>\n",
       "      <td>family2371</td>\n",
       "      <td>g063019-cds4882</td>\n",
       "      <td>831</td>\n",
       "      <td>1.000000</td>\n",
       "      <td>0.41589</td>\n",
       "      <td>1</td>\n",
       "      <td>831.0</td>\n",
       "      <td>g062726-NC_002944.2;3968007;3968839;1</td>\n",
       "      <td>0</td>\n",
       "    </tr>\n",
       "    <tr>\n",
       "      <th>195</th>\n",
       "      <td>family2380</td>\n",
       "      <td>g063019-cds2115</td>\n",
       "      <td>717</td>\n",
       "      <td>0.998605</td>\n",
       "      <td>0.41589</td>\n",
       "      <td>5</td>\n",
       "      <td>716.0</td>\n",
       "      <td>g062726-NC_002944.2;2245733;2246448;0</td>\n",
       "      <td>0</td>\n",
       "    </tr>\n",
       "    <tr>\n",
       "      <th>198</th>\n",
       "      <td>family2419</td>\n",
       "      <td>g063019-cds213</td>\n",
       "      <td>996</td>\n",
       "      <td>0.916667</td>\n",
       "      <td>0.41589</td>\n",
       "      <td>3</td>\n",
       "      <td>913.0</td>\n",
       "      <td>g062726-NC_002944.2;214877;215793;1</td>\n",
       "      <td>0</td>\n",
       "    </tr>\n",
       "    <tr>\n",
       "      <th>199</th>\n",
       "      <td>family2434</td>\n",
       "      <td>g063019-cds4180</td>\n",
       "      <td>1395</td>\n",
       "      <td>0.840860</td>\n",
       "      <td>0.41589</td>\n",
       "      <td>4</td>\n",
       "      <td>786.0</td>\n",
       "      <td>g062726-NC_002944.2;4717150;4717941;0</td>\n",
       "      <td>0</td>\n",
       "    </tr>\n",
       "    <tr>\n",
       "      <th>202</th>\n",
       "      <td>family2468</td>\n",
       "      <td>g063019-cds2960</td>\n",
       "      <td>681</td>\n",
       "      <td>0.725404</td>\n",
       "      <td>0.41589</td>\n",
       "      <td>6</td>\n",
       "      <td>379.0</td>\n",
       "      <td>g062726-NC_002944.2;1392093;1392472;0</td>\n",
       "      <td>0</td>\n",
       "    </tr>\n",
       "  </tbody>\n",
       "</table>\n",
       "</div>"
      ],
      "text/plain": [
       "         family            query  qlength  coverage  distance  hit_count  \\\n",
       "194  family2371  g063019-cds4882      831  1.000000   0.41589          1   \n",
       "195  family2380  g063019-cds2115      717  0.998605   0.41589          5   \n",
       "198  family2419   g063019-cds213      996  0.916667   0.41589          3   \n",
       "199  family2434  g063019-cds4180     1395  0.840860   0.41589          4   \n",
       "202  family2468  g063019-cds2960      681  0.725404   0.41589          6   \n",
       "\n",
       "     max_length                                longest  possess  \n",
       "194       831.0  g062726-NC_002944.2;3968007;3968839;1        0  \n",
       "195       716.0  g062726-NC_002944.2;2245733;2246448;0        0  \n",
       "198       913.0    g062726-NC_002944.2;214877;215793;1        0  \n",
       "199       786.0  g062726-NC_002944.2;4717150;4717941;0        0  \n",
       "202       379.0  g062726-NC_002944.2;1392093;1392472;0        0  "
      ]
     },
     "execution_count": 10,
     "metadata": {},
     "output_type": "execute_result"
    }
   ],
   "source": [
    "# filter trace result\n",
    "traceFilepath = \"./out/{}/{}.trace\".format(target, strain)\n",
    "trace_df = pd.read_csv(traceFilepath)\n",
    "filtered_df = trace_df[(trace_df[\"qlength\"] >= 300) & (trace_df[\"possess\"] == 0) &(trace_df[\"max_length\"] >= trace_df[\"qlength\"]*0.5)]\n",
    "print(filtered_df.shape)\n",
    "filtered_df.head()"
   ]
  },
  {
   "cell_type": "code",
   "execution_count": 11,
   "metadata": {
    "collapsed": false
   },
   "outputs": [],
   "source": [
    "query_lst = list(filtered_df[\"query\"])"
   ]
  },
  {
   "cell_type": "code",
   "execution_count": null,
   "metadata": {
    "collapsed": true
   },
   "outputs": [],
   "source": [
    "def parse_align(fp):\n",
    "    rec_lst = [rec for rec in SeqIO.parse(fp, \"fasta\")]\n",
    "    assert len(rec_lst) == 2\n",
    "    query = rec_lst[0].seq\n",
    "    sbjct = rec_lst[1].seq\n",
    "    assert len(query) == len(sbjct)\n",
    "    return query, sbjct"
   ]
  },
  {
   "cell_type": "code",
   "execution_count": 21,
   "metadata": {
    "collapsed": false,
    "scrolled": true
   },
   "outputs": [
    {
     "name": "stdout",
     "output_type": "stream",
     "text": [
      "START: g063019-cds4882\n",
      "\tFOUND: 0 additional stop codons\n",
      "\tFOUND: 1 bp insertion at 326\n",
      "\n",
      "START: g063019-cds2115\n",
      "\tFOUND: 1 additional stop codons\n",
      "\tFOUND: 1 bp deletion at 476\n",
      "\n",
      "START: g063019-cds213\n",
      "\tFOUND: 0 additional stop codons\n",
      "\tFOUND: 3 bp insertion at 215\n",
      "\tFOUND: 3 bp insertion at 666\n",
      "\tFOUND: 3 bp deletion at 852\n",
      "\n",
      "START: g063019-cds4180\n",
      "\tFOUND: 1 additional stop codons\n",
      "\tFOUND: 2 bp insertion at 170\n",
      "\tFOUND: 6 bp insertion at 502\n",
      "\tFOUND: 3 bp deletion at 759\n",
      "\n",
      "START: g063019-cds2960\n",
      "\tFOUND: 0 additional stop codons\n",
      "\n",
      "START: g063019-cds4491\n",
      "\tFOUND: 0 additional stop codons\n",
      "\tFOUND: 2 bp insertion at 315\n",
      "\n",
      "START: g063019-cds275\n",
      "\tFOUND: 1 additional stop codons\n",
      "\n",
      "START: g089074-cds5601\n",
      "\tFOUND: 0 additional stop codons\n",
      "\tFOUND: 3 bp insertion at 13\n",
      "\tFOUND: 1 bp deletion at 242\n",
      "\n",
      "START: g063019-cds4655\n",
      "\tFOUND: 0 additional stop codons\n",
      "\tFOUND: 1 bp deletion at 160\n",
      "\n",
      "START: g063019-cds3320\n",
      "\tFOUND: 0 additional stop codons\n",
      "\tFOUND: 3 bp insertion at 250\n",
      "\tFOUND: 2 bp deletion at 232\n",
      "\n",
      "START: g063019-cds2845\n",
      "\tFOUND: 0 additional stop codons\n",
      "\tFOUND: 1 bp deletion at 53\n",
      "\tFOUND: 3 bp deletion at 153\n",
      "\n",
      "START: g063019-cds4610\n",
      "\tFOUND: 0 additional stop codons\n",
      "\tFOUND: 1 bp insertion at 263\n",
      "\tFOUND: 1 bp insertion at 708\n",
      "\tFOUND: 24 bp deletion at 655\n",
      "\n",
      "START: g063019-cds3722\n",
      "\tFOUND: 1 additional stop codons\n",
      "\n",
      "START: g063019-cds1594\n",
      "\tFOUND: 3 additional stop codons\n",
      "\n",
      "START: g063032-cds2443\n",
      "\tFOUND: 0 additional stop codons\n",
      "\n",
      "START: g063032-cds1984\n",
      "\tFOUND: 0 additional stop codons\n",
      "\n",
      "START: g089074-cds3495\n",
      "\tFOUND: 0 additional stop codons\n",
      "\tFOUND: 15 bp insertion at 170\n",
      "\tFOUND: 15 bp deletion at 134\n",
      "\n",
      "START: g093856-cds708\n",
      "\tFOUND: 0 additional stop codons\n",
      "\n",
      "START: g063019-cds2328\n",
      "\tFOUND: 0 additional stop codons\n",
      "\tFOUND: 2 bp insertion at 192\n",
      "\tFOUND: 1 bp insertion at 229\n",
      "\tFOUND: 1 bp deletion at 153\n",
      "\tFOUND: 4 bp deletion at 204\n",
      "\tFOUND: 4 bp deletion at 212\n",
      "\n",
      "START: g063019-cds1134\n",
      "\tFOUND: 0 additional stop codons\n",
      "\n",
      "START: g063019-cds2575\n",
      "\tFOUND: 1 additional stop codons\n",
      "\tFOUND: 6 bp deletion at 155\n",
      "\n",
      "START: g063019-cds2060\n",
      "\tFOUND: 0 additional stop codons\n",
      "\n",
      "START: g068407-cds2460\n",
      "\tFOUND: 0 additional stop codons\n",
      "\n",
      "START: g068481-cds1099\n",
      "\tFOUND: 0 additional stop codons\n",
      "\n"
     ]
    }
   ],
   "source": [
    "for query in query_lst:\n",
    "    print(\"START: {}\".format(query))\n",
    "    \n",
    "    # load query and sbjct\n",
    "    alignFilepath = \"./align/{}/{}/{}.align\".format(target, strain, query)\n",
    "    query, sbjct = parse_align(alignFilepath)\n",
    "    length = len(query)\n",
    "\n",
    "    if is_typical(Seq(str(query).replace('-', ''))):\n",
    "\n",
    "        qi = 0 #record query index\n",
    "        codon  = {\"query\": \"\", \"sbjct\": \"\"}\n",
    "        gt = GapTracker()\n",
    "        stopCount = 0\n",
    "        isValid = True\n",
    "        \n",
    "        for i in range(length):\n",
    "            if query[i] != '-' and sbjct[i] != '-': # if alignment found \n",
    "                qi += 1\n",
    "                codon[\"query\"] += query[i]\n",
    "                codon[\"sbjct\"] += sbjct[i]\n",
    "                gt.end(i, \"query\")\n",
    "                gt.end(i, \"sbjct\")\n",
    "            else:\n",
    "                isValid = False \n",
    "                if query[i] == '-':\n",
    "                    gt.start(i, \"query\")\n",
    "                    gt.end(i, \"sbjct\")\n",
    "                elif sbjct[i] == '-':\n",
    "                    gt.start(i, \"sbjct\")\n",
    "                    gt.end(i, \"query\")\n",
    "                    \n",
    "            if qi > 0 and qi%3 == 0:\n",
    "                if isValid:\n",
    "                    assert len(codon[\"query\"]) == 3\n",
    "                    assert len(codon[\"sbjct\"]) == 3\n",
    "                    aa = {\"query\":  Seq(codon[\"query\"]).translate(),\n",
    "                             \"sbjct\": Seq(codon[\"sbjct\"]).translate()}\n",
    "                    if aa[\"query\"]!='*' and aa[\"sbjct\"]=='*':\n",
    "                        stopCount += 1\n",
    "                isValid = True\n",
    "                codon  = {\"query\": \"\", \"sbjct\": \"\"}\n",
    "                \n",
    "        gt.end(length, \"query\")\n",
    "        gt.end(length, \"sbjct\")\n",
    "        \n",
    "        # report stats\n",
    "        print(\"\\tFOUND: {} additional stop codons\".format(stopCount))\n",
    "        \n",
    "        for gap in gt.gaps[\"query\"]:\n",
    "            if gap[\"start\"]!=0 and  gap[\"end\"]!=length:\n",
    "                print(\"\\tFOUND: {} bp insertion at {}\".format(gap[\"end\"]-gap[\"start\"], gap[\"start\"]))\n",
    "                \n",
    "        for gap in gt.gaps[\"sbjct\"]:\n",
    "            if gap[\"start\"]!=0 and  gap[\"end\"]!=length:\n",
    "                print(\"\\tFOUND: {} bp deletion at {}\".format(gap[\"end\"]-gap[\"start\"], gap[\"start\"]))\n",
    "\n",
    "        print()"
   ]
  },
  {
   "cell_type": "code",
   "execution_count": 15,
   "metadata": {
    "collapsed": false
   },
   "outputs": [
    {
     "data": {
      "text/plain": [
       "'atgact'"
      ]
     },
     "execution_count": 15,
     "metadata": {},
     "output_type": "execute_result"
    }
   ],
   "source": [
    "queryCodon"
   ]
  },
  {
   "cell_type": "code",
   "execution_count": 16,
   "metadata": {
    "collapsed": false
   },
   "outputs": [
    {
     "data": {
      "text/plain": [
       "'atgcct'"
      ]
     },
     "execution_count": 16,
     "metadata": {},
     "output_type": "execute_result"
    }
   ],
   "source": [
    "sbjctCodon"
   ]
  },
  {
   "cell_type": "code",
   "execution_count": 34,
   "metadata": {
    "collapsed": false
   },
   "outputs": [
    {
     "data": {
      "text/plain": [
       "Seq('MTEALRELSGAWNFRDVSDGAPALKPGRLFRSGELSGLDDDGRATLSRLGITDV...LA*', HasStopCodon(ExtendedIUPACProtein(), '*'))"
      ]
     },
     "execution_count": 34,
     "metadata": {},
     "output_type": "execute_result"
    }
   ],
   "source": [
    "Seq(str(query).replace('-', '')).translate()"
   ]
  },
  {
   "cell_type": "code",
   "execution_count": 33,
   "metadata": {
    "collapsed": false,
    "scrolled": true
   },
   "outputs": [
    {
     "name": "stderr",
     "output_type": "stream",
     "text": [
      "/home/mitsuki/.pyenv/versions/anaconda3-4.3.1/lib/python3.6/site-packages/Bio/Seq.py:2095: BiopythonWarning: Partial codon, len(sequence) not a multiple of three. Explicitly trim the sequence or add trailing N before translation. This may become an error in future.\n",
      "  BiopythonWarning)\n"
     ]
    },
    {
     "ename": "TranslationError",
     "evalue": "Codon 'GA-' is invalid",
     "output_type": "error",
     "traceback": [
      "\u001b[0;31m---------------------------------------------------------------------------\u001b[0m",
      "\u001b[0;31mKeyError\u001b[0m                                  Traceback (most recent call last)",
      "\u001b[0;32m/home/mitsuki/.pyenv/versions/anaconda3-4.3.1/lib/python3.6/site-packages/Bio/Data/CodonTable.py\u001b[0m in \u001b[0;36m__getitem__\u001b[0;34m(self, codon)\u001b[0m\n\u001b[1;32m    340\u001b[0m                                               \u001b[0mself\u001b[0m\u001b[0;34m.\u001b[0m\u001b[0mforward_table\u001b[0m\u001b[0;34m,\u001b[0m\u001b[0;34m\u001b[0m\u001b[0m\n\u001b[0;32m--> 341\u001b[0;31m                                               self.ambiguous_nucleotide)\n\u001b[0m\u001b[1;32m    342\u001b[0m         \u001b[0;32mexcept\u001b[0m \u001b[0mKeyError\u001b[0m\u001b[0;34m:\u001b[0m\u001b[0;34m\u001b[0m\u001b[0m\n",
      "\u001b[0;32m/home/mitsuki/.pyenv/versions/anaconda3-4.3.1/lib/python3.6/site-packages/Bio/Data/CodonTable.py\u001b[0m in \u001b[0;36mlist_possible_proteins\u001b[0;34m(codon, forward_table, ambiguous_nucleotide_values)\u001b[0m\n\u001b[1;32m    194\u001b[0m         \u001b[0mx2\u001b[0m \u001b[0;34m=\u001b[0m \u001b[0mambiguous_nucleotide_values\u001b[0m\u001b[0;34m[\u001b[0m\u001b[0mc2\u001b[0m\u001b[0;34m]\u001b[0m\u001b[0;34m\u001b[0m\u001b[0m\n\u001b[0;32m--> 195\u001b[0;31m         \u001b[0mx3\u001b[0m \u001b[0;34m=\u001b[0m \u001b[0mambiguous_nucleotide_values\u001b[0m\u001b[0;34m[\u001b[0m\u001b[0mc3\u001b[0m\u001b[0;34m]\u001b[0m\u001b[0;34m\u001b[0m\u001b[0m\n\u001b[0m\u001b[1;32m    196\u001b[0m         \u001b[0mpossible\u001b[0m \u001b[0;34m=\u001b[0m \u001b[0;34m{\u001b[0m\u001b[0;34m}\u001b[0m\u001b[0;34m\u001b[0m\u001b[0m\n",
      "\u001b[0;31mKeyError\u001b[0m: '-'",
      "\nDuring handling of the above exception, another exception occurred:\n",
      "\u001b[0;31mKeyError\u001b[0m                                  Traceback (most recent call last)",
      "\u001b[0;32m/home/mitsuki/.pyenv/versions/anaconda3-4.3.1/lib/python3.6/site-packages/Bio/Seq.py\u001b[0m in \u001b[0;36m_translate_str\u001b[0;34m(sequence, table, stop_symbol, to_stop, cds, pos_stop, gap)\u001b[0m\n\u001b[1;32m   2106\u001b[0m         \u001b[0;32mtry\u001b[0m\u001b[0;34m:\u001b[0m\u001b[0;34m\u001b[0m\u001b[0m\n\u001b[0;32m-> 2107\u001b[0;31m             \u001b[0mamino_acids\u001b[0m\u001b[0;34m.\u001b[0m\u001b[0mappend\u001b[0m\u001b[0;34m(\u001b[0m\u001b[0mforward_table\u001b[0m\u001b[0;34m[\u001b[0m\u001b[0mcodon\u001b[0m\u001b[0;34m]\u001b[0m\u001b[0;34m)\u001b[0m\u001b[0;34m\u001b[0m\u001b[0m\n\u001b[0m\u001b[1;32m   2108\u001b[0m         \u001b[0;32mexcept\u001b[0m \u001b[0;34m(\u001b[0m\u001b[0mKeyError\u001b[0m\u001b[0;34m,\u001b[0m \u001b[0mCodonTable\u001b[0m\u001b[0;34m.\u001b[0m\u001b[0mTranslationError\u001b[0m\u001b[0;34m)\u001b[0m\u001b[0;34m:\u001b[0m\u001b[0;34m\u001b[0m\u001b[0m\n",
      "\u001b[0;32m/home/mitsuki/.pyenv/versions/anaconda3-4.3.1/lib/python3.6/site-packages/Bio/Data/CodonTable.py\u001b[0m in \u001b[0;36m__getitem__\u001b[0;34m(self, codon)\u001b[0m\n\u001b[1;32m    343\u001b[0m             \u001b[0mself\u001b[0m\u001b[0;34m.\u001b[0m\u001b[0m_cache\u001b[0m\u001b[0;34m[\u001b[0m\u001b[0mcodon\u001b[0m\u001b[0;34m]\u001b[0m \u001b[0;34m=\u001b[0m \u001b[0mKeyError\u001b[0m\u001b[0;34m\u001b[0m\u001b[0m\n\u001b[0;32m--> 344\u001b[0;31m             \u001b[0;32mraise\u001b[0m \u001b[0mKeyError\u001b[0m\u001b[0;34m(\u001b[0m\u001b[0mcodon\u001b[0m\u001b[0;34m)\u001b[0m  \u001b[0;31m# stop codon\u001b[0m\u001b[0;34m\u001b[0m\u001b[0m\n\u001b[0m\u001b[1;32m    345\u001b[0m         \u001b[0;32mexcept\u001b[0m \u001b[0mTranslationError\u001b[0m\u001b[0;34m:\u001b[0m\u001b[0;34m\u001b[0m\u001b[0m\n",
      "\u001b[0;31mKeyError\u001b[0m: 'GA-'",
      "\nDuring handling of the above exception, another exception occurred:\n",
      "\u001b[0;31mTranslationError\u001b[0m                          Traceback (most recent call last)",
      "\u001b[0;32m<ipython-input-33-fc71e4965ae3>\u001b[0m in \u001b[0;36m<module>\u001b[0;34m()\u001b[0m\n\u001b[0;32m----> 1\u001b[0;31m \u001b[0mquery\u001b[0m\u001b[0;34m.\u001b[0m\u001b[0mtranslate\u001b[0m\u001b[0;34m(\u001b[0m\u001b[0;34m)\u001b[0m\u001b[0;34m\u001b[0m\u001b[0m\n\u001b[0m",
      "\u001b[0;32m/home/mitsuki/.pyenv/versions/anaconda3-4.3.1/lib/python3.6/site-packages/Bio/Seq.py\u001b[0m in \u001b[0;36mtranslate\u001b[0;34m(self, table, stop_symbol, to_stop, cds, gap)\u001b[0m\n\u001b[1;32m   1036\u001b[0m \u001b[0;34m\u001b[0m\u001b[0m\n\u001b[1;32m   1037\u001b[0m         protein = _translate_str(str(self), codon_table, stop_symbol, to_stop,\n\u001b[0;32m-> 1038\u001b[0;31m                                  cds, gap=gap)\n\u001b[0m\u001b[1;32m   1039\u001b[0m \u001b[0;34m\u001b[0m\u001b[0m\n\u001b[1;32m   1040\u001b[0m         \u001b[0;32mif\u001b[0m \u001b[0mgap\u001b[0m \u001b[0;32mand\u001b[0m \u001b[0mgap\u001b[0m \u001b[0;32min\u001b[0m \u001b[0mprotein\u001b[0m\u001b[0;34m:\u001b[0m\u001b[0;34m\u001b[0m\u001b[0m\n",
      "\u001b[0;32m/home/mitsuki/.pyenv/versions/anaconda3-4.3.1/lib/python3.6/site-packages/Bio/Seq.py\u001b[0m in \u001b[0;36m_translate_str\u001b[0;34m(sequence, table, stop_symbol, to_stop, cds, pos_stop, gap)\u001b[0m\n\u001b[1;32m   2122\u001b[0m             \u001b[0;32melse\u001b[0m\u001b[0;34m:\u001b[0m\u001b[0;34m\u001b[0m\u001b[0m\n\u001b[1;32m   2123\u001b[0m                 raise CodonTable.TranslationError(\n\u001b[0;32m-> 2124\u001b[0;31m                     \"Codon '{0}' is invalid\".format(codon))\n\u001b[0m\u001b[1;32m   2125\u001b[0m     \u001b[0;32mreturn\u001b[0m \u001b[0;34m\"\"\u001b[0m\u001b[0;34m.\u001b[0m\u001b[0mjoin\u001b[0m\u001b[0;34m(\u001b[0m\u001b[0mamino_acids\u001b[0m\u001b[0;34m)\u001b[0m\u001b[0;34m\u001b[0m\u001b[0m\n\u001b[1;32m   2126\u001b[0m \u001b[0;34m\u001b[0m\u001b[0m\n",
      "\u001b[0;31mTranslationError\u001b[0m: Codon 'GA-' is invalid"
     ]
    }
   ],
   "source": [
    "query.translate()"
   ]
  },
  {
   "cell_type": "code",
   "execution_count": 13,
   "metadata": {
    "collapsed": true
   },
   "outputs": [],
   "source": [
    "def is_typical(seq):\n",
    "    if len(seq)%3 != 0:\n",
    "        print(\"WARN: the length is not multiple of 3.\")\n",
    "        return False\n",
    "    if seq[-3:].translate()!=\"*\":\n",
    "        print(\"WARN: the last codon is not stop codon.\")\n",
    "        return False\n",
    "    if '*' in seq[:-3].translate():\n",
    "        print(\"WARN: in-frame stop codon.\")\n",
    "        return False\n",
    "    return True"
   ]
  },
  {
   "cell_type": "code",
   "execution_count": 43,
   "metadata": {
    "collapsed": false
   },
   "outputs": [
    {
     "data": {
      "text/plain": [
       "Seq('ATGTGA', Alphabet())"
      ]
     },
     "execution_count": 43,
     "metadata": {},
     "output_type": "execute_result"
    }
   ],
   "source": [
    "Seq(s)[:-3]"
   ]
  },
  {
   "cell_type": "code",
   "execution_count": 45,
   "metadata": {
    "collapsed": false
   },
   "outputs": [
    {
     "name": "stdout",
     "output_type": "stream",
     "text": [
      "WARN: in-frame stop codon.\n"
     ]
    },
    {
     "data": {
      "text/plain": [
       "False"
      ]
     },
     "execution_count": 45,
     "metadata": {},
     "output_type": "execute_result"
    }
   ],
   "source": [
    "s = \"ATGTGATGA\"\n",
    "is_typical(Seq(s))"
   ]
  },
  {
   "cell_type": "code",
   "execution_count": 48,
   "metadata": {
    "collapsed": false
   },
   "outputs": [
    {
     "name": "stdout",
     "output_type": "stream",
     "text": [
      "FOUND: 1 stop codons\n"
     ]
    }
   ],
   "source": [
    "stopCount = 0\n",
    "for codon in codon_lst:\n",
    "    if Seq(codon).translate()==\"*\":\n",
    "        stopCount += 1\n",
    "print(\"FOUND: {} stop codons\".format(stopCount))"
   ]
  },
  {
   "cell_type": "code",
   "execution_count": 31,
   "metadata": {
    "collapsed": false
   },
   "outputs": [
    {
     "name": "stdout",
     "output_type": "stream",
     "text": [
      "FOUND: 1 bp insertion\n"
     ]
    }
   ],
   "source": [
    "for gap in gt.gaps[0]:\n",
    "    if gap[\"start\"]==0 or gap[\"end\"]==length:\n",
    "        pass\n",
    "    else:\n",
    "        print(\"FOUND: {} bp insertion\".format(gap[\"end\"]-gap[\"start\"]))\n",
    "        \n",
    "for gap in gt.gaps[1]:\n",
    "    if gap[\"start\"]==0 or gap[\"end\"]==length:\n",
    "        pass\n",
    "    else:\n",
    "        print(\"FOUND: {} bp deletion\".format(gap[\"end\"]-gap[\"start\"]))"
   ]
  },
  {
   "cell_type": "code",
   "execution_count": 28,
   "metadata": {
    "collapsed": false
   },
   "outputs": [],
   "source": [
    "gap_lst = []\n",
    "for gaps in gt.gaps:\n",
    "    for gap in gaps:\n",
    "        if gap[\"start\"]==0 or gap[\"end\"]==length:\n",
    "            pass\n",
    "        else:\n",
    "            gap_lst.append(gap)"
   ]
  },
  {
   "cell_type": "code",
   "execution_count": 29,
   "metadata": {
    "collapsed": false
   },
   "outputs": [
    {
     "data": {
      "text/plain": [
       "[{'end': 327, 'start': 326}]"
      ]
     },
     "execution_count": 29,
     "metadata": {},
     "output_type": "execute_result"
    }
   ],
   "source": [
    "gap_lst"
   ]
  },
  {
   "cell_type": "code",
   "execution_count": 1,
   "metadata": {
    "collapsed": false
   },
   "outputs": [
    {
     "ename": "NameError",
     "evalue": "name 'length' is not defined",
     "output_type": "error",
     "traceback": [
      "\u001b[0;31m---------------------------------------------------------------------------\u001b[0m",
      "\u001b[0;31mNameError\u001b[0m                                 Traceback (most recent call last)",
      "\u001b[0;32m<ipython-input-1-9cf56f394795>\u001b[0m in \u001b[0;36m<module>\u001b[0;34m()\u001b[0m\n\u001b[0;32m----> 1\u001b[0;31m \u001b[0mlength\u001b[0m\u001b[0;34m\u001b[0m\u001b[0m\n\u001b[0m",
      "\u001b[0;31mNameError\u001b[0m: name 'length' is not defined"
     ]
    }
   ],
   "source": [
    "length"
   ]
  },
  {
   "cell_type": "code",
   "execution_count": 70,
   "metadata": {
    "collapsed": false
   },
   "outputs": [
    {
     "data": {
      "text/plain": [
       "'gcg'"
      ]
     },
     "execution_count": 70,
     "metadata": {},
     "output_type": "execute_result"
    }
   ],
   "source": [
    "codon_lst[0]"
   ]
  },
  {
   "cell_type": "code",
   "execution_count": null,
   "metadata": {
    "collapsed": true
   },
   "outputs": [],
   "source": []
  },
  {
   "cell_type": "code",
   "execution_count": 74,
   "metadata": {
    "collapsed": false
   },
   "outputs": [
    {
     "name": "stdout",
     "output_type": "stream",
     "text": [
      "MPEALRELSGAWNFRDVADGAPMLRPGRLFRSGELSGLDDEGRATLRRLGITDVADLRAAREVARRGPGRVPDGVEVHLLPFPDLGEHEAGTDDQAPHEHAFQRLLTGGAEQSAESVDEAATRYMIDEYRQFPTRNGAQRALHRVISLLGAGRAVLTHCFAGKDRTGFVVATVLEAIGVDRDVIVADFLRSNDAAPALRAQISAMIAQRQDTELTPEVVTWTEARLSDGVLGVREEYLAAARQTIDEKFGSLQAYLRDAGVGEADVQRLRAALLA*"
     ]
    }
   ],
   "source": []
  },
  {
   "cell_type": "code",
   "execution_count": 77,
   "metadata": {
    "collapsed": true
   },
   "outputs": [],
   "source": [
    "def get_six_frame(dnaSeq):\n",
    "    \"\"\"\n",
    "    get 6 frame translation of qseq_dna\n",
    "    \"\"\"\n",
    "    qtrans_lst=[]\n",
    "    for strand in [1,-1]:\n",
    "        for gap in range(3):\n",
    "            start, end = gap, len(dnaSeq)\n",
    "            while end%3 != gap:\n",
    "                end -= 1\n",
    "            if strand == 1:\n",
    "                subSeq = dnaSeq[gap:end]\n",
    "            elif strand == -1 :\n",
    "                subSeq = dnaSeq[gap:end].reverse_complement()\n",
    "            qtrans_lst.append(subSeq.translate(table=11))\n",
    "    return qtrans_lst"
   ]
  },
  {
   "cell_type": "code",
   "execution_count": 76,
   "metadata": {
    "collapsed": true
   },
   "outputs": [],
   "source": [
    "fnaFilepath = \"/home/mitsuki/altorf/denovo/trg-trace/align/mycobacterium/g062726/g063019-cds4882.fna\"\n",
    "rec_lst = [rec for rec in SeqIO.parse(fnaFilepath, \"fasta\")]"
   ]
  },
  {
   "cell_type": "code",
   "execution_count": 78,
   "metadata": {
    "collapsed": false
   },
   "outputs": [
    {
     "name": "stdout",
     "output_type": "stream",
     "text": [
      "MTEALRELSGAWNFRDVSDGAPALKPGRLFRSGELSGLDDDGRATLSRLGITDVADLRAAREVARRGPGLVPDGVEVHLLPFPDLGEQDAGTDDAAPHEHAFQRLLTGEGVEESEQSVNEAATRYMIDEYRQFPTRNGAQRALHRVISLLADGHSVLTHCFAGKDRTGFVVATVLEAIGIDRDTILADFLRSNDAAPALRAQISAMIAQRQDAELTPEVVTWTEARLSDGVLGVREVYLAAARQTIDEEFGSLDAYLRAASVSESDVERLREALLA*\n",
      "*LRRCENCRARGTFVTSPTAHRRSNPGGCSAPAN*AGSTTTAARR*AGWASPTSPICGRPARSRGAGRGWFPTASRCTCCPSPISASRTPGPTTRRRTNTPSSACSPARASRNRSSRSTRPPPAT*STNTANSQRVTGRSGRCTASSRCWPTGIRC*RTASPARTAPASWWRPCWRRSASTATPSWPTSCAATTPRPPCGRRSPR*SRSARTPS*PRRW*PGPRRGCPTACSGSARSTWPPRAKPSTRNSGRWTPTCAPRASASQTWSACARRCSP\n",
      "D*GVARTVGRVELS*RLRRRTGAQTRAAVPLRRTERARRRRPRDAEPAGHHRRRRSAGGPRGRAARAGAGSRRRRGAPVALPRSRRAGRRDRRRGAARTRLPAPAHRRGRRGIGAVGQRGRHPLHDRRIPPIPNA*RGAAGVAPRHLAAGRRAFGADALLRRQGPHRLRGGDRAGGDRHRPRHHPGRLPAQQRRRARPAGADLRDDRAAPGRRADPGGGDLDRGAAVRRRARGPRGLPGRRAPNHRRGIRVAGRLLARRERQRVRRGAPARGAARL\n",
      "SGEQRLAQALHV*LADARGAQVGVQRPEFLVDGLARGGQVDLADPEHAVGQPRLGPGHHLRGQLGVLALRDHRGDLRPQGGRGVVAAQEVGQDGVAVDADRLQHGRHHEAGAVLAGEAVRQHRMPVGQQRDDAVQRPLRPVTRWELAVFVDHVAGGGLVDRLLRFLDALAGEQALEGVFVRRRVVGPGVLLAEIGEGQQVHLDAVGNQPRPAPRDLAGRPQIGDVGDAQPAQRRAAVVVEPAQFAGAEQPPGFERRCAVGDVTKVPRARQFSQRLSH\n",
      "RRAAPRAGAPRLTR*RSRRASRRPATRIPRRWFGARRPGRPRGPRARRRTAAPRSRSPPPGSARRPGAARSSRRSAPAGRARRRCCAGSRPGWCRGRCRSPPARSPPRSRCGPCRRSSASAPNARRPAAR*RGATPAAPRYALGIGGIRRSCSGWRPR*PTAPIPRRPRR*AGAGRRVRAAPRRRSRRPARRDRGRATGAPRRRREPAPARAARPRGPPADRRRR*CPAGSASRGRRRRARSVRRSGTAARV*APVRRRRRHESSTRPTVLATPQS\n",
      "QASSASRRRSTSDSLTLAARK*ASSDPNSSSMVWRAAAR*TSRTPSTPSDSRASVQVTTSGVSSASWRCAIIAEICARRAGAASLLRRKSARMVSRSMPIASSTVATTKPVRSLPAKQCVSTECPSASSEMTRCNARCAPLRVGNWRYSSIM*RVAASLTDCSDSSTPSPVSRRWKACSCGAASSVPASCSPRSGKGNRCTSTPSGTSPGPRRATSRAARRSATSVMPSRLSVARPSSSSPLSSPERNSRPGLSAGAPSETSRKFHAPDSSRNASV\n"
     ]
    }
   ],
   "source": [
    "for seq in get_six_frame(rec_lst[0].seq):\n",
    "    print(seq)"
   ]
  },
  {
   "cell_type": "code",
   "execution_count": 79,
   "metadata": {
    "collapsed": false
   },
   "outputs": [
    {
     "name": "stdout",
     "output_type": "stream",
     "text": [
      "MPEALRELSGAWNFRDVADGAPMLRPGRLFRSGELSGLDDEGRATLRRLGITDVADLRAAREVARRGPGRVPDGVEVHLLPFPDLGEHEAGTDDQAPHEHAFQRLLTGDGGRAVGGVRRRGRHPLHDRRIPAIPNA*RGAASAAPGHLAAGRRACGAHPLLRRQGPHRVRGGDGARSDRRRPRRHRRRLSAQQRRRARAARADLGDDRAAPGHRADPGGGDLDRGAAVRRCAGGARGVPGRRSANHRREVRVAAGLPARRRGRRGRRATPARGAARL\n",
      "CLRRCENCPARGTFVTSPTVRPCCGRAGCSGPAS*AGSTTRAARRCAGWASPTSPTCARPARWPGAARAGFPTGSRCTCCPFPISASTRPAPTTRRRTSTPSSGCSPATGAEQSAESVDEAATRYMIDEYRQFPTRNGAQRALHRVISLLGAGRAVLTHCFAGKDRTGFVVATVLEAIGVDRDVIVADFLRSNDAAPALRAQISAMIAQRQDTELTPEVVTWTEARLSDGVLGVREEYLAAARQTIDEKFGSLQAYLRDAGVGEADVQRLRAALLA*\n",
      "A*GAARTVRRVELS*RRRRCAHAAAGPAVPVRRAERARRRGPRDAAPAGHHRRRRPARGPRGGPARPGPGSRRGRGAPAALSRSRRARGRHRRPGAARARLPAAAHRRRGPSSRRSPSTRPPPAT*STNTGNSQRVTGRSERCTGSSRCWAPGVRCSPTASPARTAPGSWWRRCSKRSASTATSSSPTFCAATTPRPRCARRSRR*SRSARTPS*PRRW*PGPRRGCPTVCWGCARSTWPPLGKPSTRSSGRCRPTCATPGSARQTCNACARRCSP\n",
      "QASSAARRRCTSASPTPASRR*ACSDPNFSSMVCRAAARYSSRTPSTPSDSRASVQVTTSGVSSVSWRCAIIAEICARSAGAASLLRRKSATMTSRSTPIASSTVATTNPVRSLPAKQWVSTARPAPSSEMTRCSARCAPLRVGNCRYSSIM*RVAASSTDSADCSAPVAGEQPLEGVLVRRLVVGAGLVLAEIGKGQQVHLDPVGNPARAAPGHLAGRAQVGDVGDAQPAQRRAALVVEPAQLAGPEQPARPQHGRTVGDVTKVPRAGQFSQRLRH\n",
      "SGEQRRAQALHVCLADPGVAQVGLQRPELLVDGLPSGGQVLLAHPQHTVGQPRLGPGHHLRGQLGVLALRDHRRDLRAQRGRGVVAAQKVGDDDVAVDADRFEHRRHHEPGAVLAGEAVGEHRTPGAQQRDDPVQRSLRPVTRWELPVFVDHVAGGGLVDGLRRLLGPRRR*AAAGRRARAAPGRRCRPRARRDRERAAGAPRPRREPGPGRAGPPRGPRAGRRRR*CPAGAASRGPRRRARSARRTGTAGPAAAWAHRRRRHESSTRRTVLAAPQA\n",
      "RRAAPRAGVARLPRRPRRRAGRPAATRTSRRWFAERRPGTPRAPPAHRRTAAPRSRSPPPGSARCPGAARSSPRSARAARARRRCCAESRRR*RRGRRRSLRAPSPPRTRCGPCRRSSG*APHARRPAAR*PGAALAAPRYALGIAGIRRSCSGWRPRRRTPPTARPPSPVSSRWKACSCGAWSSVPASCSPRSGKGSRCTSTPSGTRPGPRRATSRAARRSATSVMPSRRSVARPSSSSPLSSPDRNSRPGRSMGAPSATSRKFHAPDSSRSASG\n"
     ]
    }
   ],
   "source": [
    "for seq in get_six_frame(rec_lst[1].seq):\n",
    "    print(seq)"
   ]
  },
  {
   "cell_type": "code",
   "execution_count": 9,
   "metadata": {
    "collapsed": true
   },
   "outputs": [],
   "source": [
    "def get_rec(target, family, orfid, ext):\n",
    "    assert ext==\"fna\" or ext==\"faa\"\n",
    "    \n",
    "    fp = \"/data/mitsuki/data/denovo/{0}/annotation/refseq/family/{2}/{1}.{2}\".format(target, family, ext)\n",
    "    for rec in SeqIO.parse(fp, \"fasta\"):\n",
    "        if rec.id == orfid:\n",
    "            return rec\n",
    "    return None"
   ]
  },
  {
   "cell_type": "code",
   "execution_count": null,
   "metadata": {
    "collapsed": true
   },
   "outputs": [],
   "source": [
    "family6623\n",
    "query = \"g063032-cds2443\""
   ]
  },
  {
   "cell_type": "code",
   "execution_count": 11,
   "metadata": {
    "collapsed": false
   },
   "outputs": [
    {
     "data": {
      "text/plain": [
       "SeqRecord(seq=Seq('MAGGTTKANCSQKCEAGGDRRIRIAARQHGSRLPSVHFGAAWVGLGAFATLPAA...GLP', SingleLetterAlphabet()), id='g063032-cds2443', name='g063032-cds2443', description='g063032-cds2443 WP_080674231.1 hypothetical protein [Mycobacterium kansasii]', dbxrefs=[])"
      ]
     },
     "execution_count": 11,
     "metadata": {},
     "output_type": "execute_result"
    }
   ],
   "source": [
    "get_rec(\"mycobacterium\", \"family6623\", \"g063032-cds2443\", \"faa\") #当然1フレーム目の翻訳産物"
   ]
  },
  {
   "cell_type": "code",
   "execution_count": 3,
   "metadata": {
    "collapsed": false
   },
   "outputs": [],
   "source": [
    "seqFilepath = \"../helper/extract.out\"\n",
    "rec_lst = []\n",
    "for rec in SeqIO.parse(seqFilepath, \"fasta\"):\n",
    "    rec_lst.append(rec)"
   ]
  },
  {
   "cell_type": "code",
   "execution_count": 4,
   "metadata": {
    "collapsed": false
   },
   "outputs": [
    {
     "data": {
      "text/plain": [
       "[SeqRecord(seq=Seq('AGCGGGCGACGTTCCGAATGTTCGGTCCGCCGCCCGCTAGCACGGGACTCGGTT...GTG', SingleLetterAlphabet()), id='g062726-NC_002944.2:[438217,', name='g062726-NC_002944.2:[438217,', description='g062726-NC_002944.2:[438217, 438511),0', dbxrefs=[]),\n",
       " SeqRecord(seq=Seq('ATAGCTGGCGGAACTACAAAAGCAAATTGTTCGCAGAAATGCGAAGCGGGCGGC...TGA', SingleLetterAlphabet()), id='g063032-cds2443', name='g063032-cds2443', description='g063032-cds2443 lcl|NC_022663.1_cds_WP_080674231.1_2445 [locus_tag=MKAN_RS29640] [db_xref=GeneID:31546045] [protein=hypothetical protein] [protein_id=WP_080674231.1] [location=complement(2811380..2811718)] [gbkey=CDS]', dbxrefs=[])]"
      ]
     },
     "execution_count": 4,
     "metadata": {},
     "output_type": "execute_result"
    }
   ],
   "source": [
    "rec_lst"
   ]
  },
  {
   "cell_type": "code",
   "execution_count": null,
   "metadata": {
    "collapsed": true
   },
   "outputs": [],
   "source": [
    "AGDVPNVRSAAR*HGTRLPSVHLAAWVGLGDLTTLPVAAPKGP*TAIRNYAGPQHFCHFRGYDSAWVPSTVLGARIGRSNLLFRDLGLTGLP"
   ]
  },
  {
   "cell_type": "code",
   "execution_count": 5,
   "metadata": {
    "collapsed": false
   },
   "outputs": [
    {
     "name": "stdout",
     "output_type": "stream",
     "text": [
      "SGRRSECSVRRPLARDSVTKRASRGCVGWPRRSHDASGCSPTQRAVDTFRNSQLRRPATLLPFSRL*LRVGAEHRAGRPDREIEPSLPDRPWPHRASV\n",
      "AGDVPNVRSAAR*HGTRLPSVHLGAAWVGLGDLTTLPVAAPPKGP*TPSAIRNYAGPQHFCHFRGYDSAWVPSTVLGARIGRSNLLFRIDLGLTGLP\n",
      "RATFRMFGPPPASTGLGYQACISGLRGLASAISRRFRLQPHPKGRRHLPQFAITQARNTSAIFAAMTPRGCRAPCWAPGSGDRTFSSGSTLASPGFR\n",
      "HGSPVRPRSIRKRRFDLPIRAPSTVLGTHAES*PRKWQKCCGPA*LRIAEGVYGPLGGAATGSVVRSPRPTHAAPRCTLGNRVPC*RAADRTFGTSPA\n",
      "RKPGEAKVDPEEKVRSPDPGAQHGARHPRGVIAAKMAEVLRACVIANCGRCLRPFGWGCNRKRREIAEANPRSPEMHAW*PSPVLAGGGPNIRNVAR\n",
      "TEAR*GQGRSGREGSISRSGRPARCSAPTRSHSRENGRSVAGLRNCELRKVSTALWVGLQPEAS*DRRGQPTQPRDARLVTESRASGRRTEHSERRP\n"
     ]
    }
   ],
   "source": [
    "for seq in get_six_frame(rec_lst[0].seq):\n",
    "    print(seq)"
   ]
  },
  {
   "cell_type": "code",
   "execution_count": 6,
   "metadata": {
    "collapsed": false
   },
   "outputs": [
    {
     "name": "stdout",
     "output_type": "stream",
     "text": [
      "IAGGTTKANCSQKCEAGGDRRIRIAARQHGSRLPSVHFGAAWVGLGAFATLPAAAPPKGPSLPSALRNYAGPQHFCHYRGYDSAWVPGTVLGARVGRTNLLFRIDLGLTGLP*\n",
      "*LAELQKQIVRRNAKRAATEGFESPPANTVLGYQACISGLRGLASALLRHFRLQPHPKDRRYHLHFAITQARNTSAIIAAMTPRGCREPCWAPGSGERTFSSGSTLASPGFR\n",
      "SWRNYKSKLFAEMRSGRRPKDSNRRPPTRFSVTKRAFRGCVGWPRRFCDTSGCSPTQRTVATICTSQLRRPATLLPLSRL*LRVGAGNRAGRPGRENEPSLPDRPWPHRASV\n",
      "SRKPGEAKVDPEEKVRSPDPGAQHGSRHPRGVIAAIMAEVLRACVIAKCRW*RRSFGWGCSRKCRKSAEANPRSPEMHAW*PRTVLAGGDSNPSVAARFAFLRTICFCSSASY\n",
      "TEAR*GQGRSGREGSFSRPGRPARFPAPTRSHSRDNGRSVAGLRNCEVQMVATVLWVGLQPEVSQKRRGQPTQPRNARLVTENRVGGRRFESFGRRPLRISANNLLL*FRQL\n",
      "HGSPVRPRSIRKRRFVLPTRAPSTVPGTHAES*PR*WQKCCGPA*LRSADGSDGPLGGAAAGSVAKAPRPTHAAPKCTLGNREPCWRAAIRILRSPPASHFCEQFAFVVPPA\n"
     ]
    }
   ],
   "source": [
    "for seq in get_six_frame(rec_lst[1].seq):\n",
    "    print(seq)"
   ]
  },
  {
   "cell_type": "code",
   "execution_count": 9,
   "metadata": {
    "collapsed": false
   },
   "outputs": [
    {
     "name": "stdout",
     "output_type": "stream",
     "text": [
      "IAGGTTKANCSQKCEAGGDRRIRIAARQHGSRLPSVHFGAAWVGLGAFATLPAAAPPKGPSLPSALRNYAGPQHFCHYRGYDSAWVPGTVLGARVGRTNLLFRIDLGLTGLP*\n"
     ]
    }
   ],
   "source": [
    "print(get_six_frame(rec_lst[1].seq)[0])"
   ]
  },
  {
   "cell_type": "code",
   "execution_count": null,
   "metadata": {
    "collapsed": true
   },
   "outputs": [],
   "source": []
  }
 ],
 "metadata": {
  "kernelspec": {
   "display_name": "Python 3",
   "language": "python",
   "name": "python3"
  },
  "language_info": {
   "codemirror_mode": {
    "name": "ipython",
    "version": 3
   },
   "file_extension": ".py",
   "mimetype": "text/x-python",
   "name": "python",
   "nbconvert_exporter": "python",
   "pygments_lexer": "ipython3",
   "version": "3.6.0"
  }
 },
 "nbformat": 4,
 "nbformat_minor": 2
}
